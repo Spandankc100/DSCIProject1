{
 "cells": [
  {
   "cell_type": "markdown",
   "id": "f5d8e263-4a15-4208-8159-32878d56af95",
   "metadata": {},
   "source": [
    "# *Imports*"
   ]
  },
  {
   "cell_type": "code",
   "execution_count": 16,
   "id": "66ec5501-1b32-41ad-b8b1-fb84f69a952b",
   "metadata": {},
   "outputs": [],
   "source": [
    "from composable import pipeable\n",
    "from composable.strict import map, filter\n",
    "import composable_records as rec\n",
    "import composable_tuples as tup\n",
    "from composable_glob import glob\n",
    "from composable_origami import fold\n",
    "from composable_utility import with_open, get\n",
    "import pandas as pd"
   ]
  },
  {
   "cell_type": "markdown",
   "id": "b1b1e52a-df64-4cdf-9561-5ce9158eacb6",
   "metadata": {},
   "source": [
    "# **Paths and course-related functions**"
   ]
  },
  {
   "cell_type": "code",
   "execution_count": 17,
   "id": "215b1e64-7368-440c-9267-340306389080",
   "metadata": {},
   "outputs": [],
   "source": [
    "# **Paths and course-related functions**\n",
    "paths = (\n",
    "    \"./attendance_example_fixed_width/*/*.txt\"\n",
    "    >> glob(recursive=True)\n",
    ")"
   ]
  },
  {
   "cell_type": "code",
   "execution_count": 18,
   "id": "faa330e7-bc0b-4238-a4aa-65dc59e4a8f6",
   "metadata": {},
   "outputs": [],
   "source": [
    "normalize_path = lambda path: path.replace(\"\\\\\", \"/\")\n",
    "get_course = lambda path: normalize_path(path).split(\"/\")[-2]\n",
    "get_section = lambda path: get_course(path)[-2:]\n",
    "get_type = lambda path: \"Attendance\" if \"Attendance Quiz\" in path else \"Practice Quiz\""
   ]
  },
  {
   "cell_type": "markdown",
   "id": "b1fabd55-f4e9-4503-ab5c-e69ee8066a8b",
   "metadata": {},
   "source": [
    "# **Processing files and lines**"
   ]
  },
  {
   "cell_type": "code",
   "execution_count": 19,
   "id": "6654f19f-ae3a-4afd-ae24-cc2af53dfb0e",
   "metadata": {},
   "outputs": [],
   "source": [
    "\n",
    "paths_and_lines = [\n",
    "    {\n",
    "        \"course\": get_course(path),\n",
    "        \"section\": get_section(path),\n",
    "        \"type\": get_type(path),\n",
    "        \"lines\": with_open(lambda f: f.readlines(), path),\n",
    "    }\n",
    "    for path in paths\n",
    "]"
   ]
  },
  {
   "cell_type": "markdown",
   "id": "108fdd65-4156-4e37-84c1-738824b79b9b",
   "metadata": {},
   "source": [
    "# **Header and column definition**"
   ]
  },
  {
   "cell_type": "code",
   "execution_count": 20,
   "id": "79122f58-2304-4190-8a9b-04abb4e58627",
   "metadata": {},
   "outputs": [],
   "source": [
    "\n",
    "header = [\n",
    "    (\"Org Defined ID\", 9), (\"UserName\", 9), (\"FirstName\", 12), (\"LastName\", 12),\n",
    "    (\"Attempt #\", 3), (\"Score\", 3), (\"Out Of\", 3), (\"Attempt_Start\", 20),\n",
    "    (\"Attempt_End\", 20), (\"Percent\", 4)\n",
    "]\n",
    "\n",
    "column_names = [col[0] for col in header]\n",
    "column_widths = [col[1] for col in header]"
   ]
  },
  {
   "cell_type": "markdown",
   "id": "a2d22bb2-6492-45dd-918e-bfe8fae473d5",
   "metadata": {},
   "source": [
    "# **Column positions calculation based on widths**"
   ]
  },
  {
   "cell_type": "code",
   "execution_count": 21,
   "id": "6bf369f4-b1ee-4f77-844b-8ce84560b1b5",
   "metadata": {},
   "outputs": [],
   "source": [
    "positions = [sum(column_widths[:i]) for i in range(len(column_widths) + 1)]"
   ]
  },
  {
   "cell_type": "markdown",
   "id": "89f52b43-eb4f-4887-8fd4-b8b75ae495f6",
   "metadata": {},
   "source": [
    "# **Parse records from lines**"
   ]
  },
  {
   "cell_type": "code",
   "execution_count": 22,
   "id": "1c587b4f-c1b1-4bbe-945f-b2264ff31a2f",
   "metadata": {},
   "outputs": [],
   "source": [
    "\n",
    "parsed_records = [\n",
    "    {\n",
    "        \"course\": record[\"course\"],\n",
    "        \"section\": record[\"section\"],\n",
    "        \"type\": record[\"type\"],\n",
    "        **dict(zip(column_names, [line[positions[i]:positions[i + 1]].strip() for i in range(len(column_widths))]))\n",
    "    }\n",
    "    for record in paths_and_lines\n",
    "    for line in record[\"lines\"]\n",
    "]"
   ]
  },
  {
   "cell_type": "markdown",
   "id": "010a949a-3f45-4195-9bfc-b508b2a5b435",
   "metadata": {},
   "source": [
    "# **Splitting Attempt Start and End into Date and Time**"
   ]
  },
  {
   "cell_type": "code",
   "execution_count": 23,
   "id": "116d4e86-e439-4294-b88e-d28d27dc2763",
   "metadata": {},
   "outputs": [],
   "source": [
    "\n",
    "for record in parsed_records:\n",
    "    record[\"Attempt_Start_Date\"], record[\"Attempt_Start_Time\"] = record[\"Attempt_Start\"].split(\" \") if \" \" in record[\"Attempt_Start\"] else (\"\", \"\")\n",
    "    record[\"Attempt_End_Date\"], record[\"Attempt_End_Time\"] = record[\"Attempt_End\"].split(\" \") if \" \" in record[\"Attempt_End\"] else (\"\", \"\")\n"
   ]
  },
  {
   "cell_type": "markdown",
   "id": "a2c5262b-7428-4cf9-a342-ea8a932e9df7",
   "metadata": {},
   "source": [
    "# **Convert parsed records into a DataFrame**"
   ]
  },
  {
   "cell_type": "code",
   "execution_count": 24,
   "id": "a624fa5f-c558-40a4-856c-ac92b401a5d5",
   "metadata": {},
   "outputs": [],
   "source": [
    "df = pd.DataFrame(parsed_records)"
   ]
  },
  {
   "cell_type": "markdown",
   "id": "49be51ac-f26d-48ae-a741-4004b6d5148c",
   "metadata": {},
   "source": [
    "# **Save merged data to CSV**"
   ]
  },
  {
   "cell_type": "code",
   "execution_count": 25,
   "id": "069a0067-951b-4bf5-97f8-4fd186bae97e",
   "metadata": {},
   "outputs": [
    {
     "name": "stdout",
     "output_type": "stream",
     "text": [
      " Successfully merged and saved as merged_attendance_practice.csv\n"
     ]
    }
   ],
   "source": [
    "\n",
    "output_csv = \"merged_attendance_practice.csv\"\n",
    "df.to_csv(output_csv, index=False)\n",
    "\n",
    "print(f\" Successfully merged and saved as {output_csv}\")"
   ]
  },
  {
   "cell_type": "code",
   "execution_count": null,
   "id": "d7d1119b-ae07-4b0f-8a7a-fe9a4ccc4015",
   "metadata": {},
   "outputs": [],
   "source": []
  },
  {
   "cell_type": "code",
   "execution_count": null,
   "id": "5e722dcc-6e9f-4c91-aff7-49bde6602d1e",
   "metadata": {},
   "outputs": [],
   "source": []
  }
 ],
 "metadata": {
  "kernelspec": {
   "display_name": "Python 3 (ipykernel)",
   "language": "python",
   "name": "python3"
  },
  "language_info": {
   "codemirror_mode": {
    "name": "ipython",
    "version": 3
   },
   "file_extension": ".py",
   "mimetype": "text/x-python",
   "name": "python",
   "nbconvert_exporter": "python",
   "pygments_lexer": "ipython3",
   "version": "3.12.5"
  }
 },
 "nbformat": 4,
 "nbformat_minor": 5
}
