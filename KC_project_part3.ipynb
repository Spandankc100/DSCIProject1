{
 "cells": [
  {
   "cell_type": "markdown",
   "id": "dea2b46b-00ed-4d6a-8c60-9506045e7154",
   "metadata": {},
   "source": [
    "# *Imports*\n",
    "\n",
    "   \n"
   ]
  },
  {
   "cell_type": "code",
   "execution_count": 22,
   "id": "cf04598a-53dd-4dd0-baa7-ffe031a7312f",
   "metadata": {},
   "outputs": [],
   "source": [
    "from composable import pipeable\n",
    "from composable.strict import map\n",
    "import composable_records as rec\n",
    "from composable_glob import glob\n",
    "from composable_utility import with_open\n",
    "import csv\n",
    "from functools import reduce as base_reduce\n"
   ]
  },
  {
   "cell_type": "markdown",
   "id": "a3772fd5-fda2-44f7-b753-a9d82a9f120c",
   "metadata": {},
   "source": [
    "# --- Custom pipeable functions ---"
   ]
  },
  {
   "cell_type": "code",
   "execution_count": 23,
   "id": "29b786e1-7cd2-4dd1-8856-011fffd6c2a4",
   "metadata": {},
   "outputs": [],
   "source": [
    "# --- Custom pipeable functions ---\n",
    "@pipeable\n",
    "def fold(update, init, seq):\n",
    "    return base_reduce(update, seq, init)\n",
    "\n",
    "@pipeable\n",
    "def unfoldr(empty, func, state):\n",
    "    out = []\n",
    "    while not empty(state):\n",
    "        new, state = func(state)\n",
    "        out = out + [new]\n",
    "    return out\n"
   ]
  },
  {
   "cell_type": "markdown",
   "id": "9d5efe2c-6a8e-4298-bedd-a03a4cdc429c",
   "metadata": {},
   "source": [
    "# --- Attendance fixed-width column spec from README ---"
   ]
  },
  {
   "cell_type": "code",
   "execution_count": 24,
   "id": "2a321dfa-166b-4dab-bc55-22033b761c35",
   "metadata": {},
   "outputs": [],
   "source": [
    "# --- Attendance fixed-width column spec from README ---\n",
    "attendance_header = [\n",
    "    (\"Org Defined ID\", 9),\n",
    "    (\"UserName\", 9),\n",
    "    (\"FirstName\", 12),\n",
    "    (\"LastName\", 12),\n",
    "    (\"Attempt #\", 3),\n",
    "    (\"Score\", 3),\n",
    "    (\"Out Of\", 3),\n",
    "    (\"Attempt_Start\", 10),     # Date\n",
    "    (\"Attempt_Start_Time\", 10),\n",
    "    (\"Attempt_End\", 10),       # Date\n",
    "    (\"Attempt_End_Time\", 10),\n",
    "    (\"Percent\", 6),\n",
    "]\n",
    "column_names = [col[0] for col in attendance_header]\n",
    "column_widths = [col[1] for col in attendance_header]"
   ]
  },
  {
   "cell_type": "markdown",
   "id": "21cc4a85-6ca7-4036-8b35-68c287576401",
   "metadata": {},
   "source": [
    "# --- Helpers for parsing path info ---"
   ]
  },
  {
   "cell_type": "code",
   "execution_count": 25,
   "id": "ace80de4-09ec-4a7c-b018-91143695db28",
   "metadata": {},
   "outputs": [],
   "source": [
    "# --- Helpers for parsing path info ---\n",
    "normalize_path = lambda path: path.replace(\"\\\\\", \"/\")\n",
    "get_course = lambda path: normalize_path(path).split(\"/\")[-2][:-2]\n",
    "get_section = lambda path: normalize_path(path).split(\"/\")[-2][-2:]"
   ]
  },
  {
   "cell_type": "markdown",
   "id": "0a16aabf-246a-4696-9659-1b73096a608c",
   "metadata": {},
   "source": [
    "# --- Function to parse one line using unfoldr ---"
   ]
  },
  {
   "cell_type": "code",
   "execution_count": 26,
   "id": "c80fa8d3-579a-42a5-80ac-e72587262850",
   "metadata": {},
   "outputs": [],
   "source": [
    "\n",
    "def parse_fixed_width_unfold(line, widths):\n",
    "    return unfoldr(\n",
    "        empty = lambda s: s == \"\",\n",
    "        func = lambda s: (s[:widths[0]].strip(), s[widths[0]:]) if s else (\"\", \"\"),\n",
    "        state = line\n",
    "    )"
   ]
  },
  {
   "cell_type": "markdown",
   "id": "bdb5b7a8-f963-427d-b394-0d5802aad87b",
   "metadata": {},
   "source": [
    "# --- Composable pipeline to combine attendance files ---"
   ]
  },
  {
   "cell_type": "code",
   "execution_count": 27,
   "id": "f950fa27-a84f-43be-9f37-eb97e7c5b169",
   "metadata": {},
   "outputs": [],
   "source": [
    "combined_attendance_rows = (\n",
    "    \"attendance_example_fixed_width/*/*.txt\"\n",
    "    >> glob(recursive=True)\n",
    "    >> map(\n",
    "        rec.create(\n",
    "            path    = lambda p: p,\n",
    "            course  = lambda p: get_course(p),\n",
    "            section = lambda p: get_section(p),\n",
    "            lines   = lambda p: with_open(lambda f: f.read().splitlines(), p),\n",
    "            use_record_class=False\n",
    "        )\n",
    "    )\n",
    "    >> map(\n",
    "        rec.update(\n",
    "            parsed_rows = lambda r: [\n",
    "                dict(zip(column_names, parse_fixed_width_unfold(line, column_widths))) | {\n",
    "                    \"Course\": r[\"course\"],\n",
    "                    \"Section\": r[\"section\"]\n",
    "                }\n",
    "                for line in r[\"lines\"] if line.strip()\n",
    "            ]\n",
    "        )\n",
    "    )\n",
    "    >> fold(lambda acc, r: acc + r[\"parsed_rows\"], [])\n",
    ")"
   ]
  },
  {
   "cell_type": "markdown",
   "id": "269afe49-4925-49a7-b9af-35c628df0a3c",
   "metadata": {},
   "source": [
    "\n",
    "# --- Save to CSV ---"
   ]
  },
  {
   "cell_type": "code",
   "execution_count": 28,
   "id": "afda5f62-42a5-463c-8114-fcfc1bd8cc2b",
   "metadata": {},
   "outputs": [
    {
     "name": "stdout",
     "output_type": "stream",
     "text": [
      "✅ Attendance CSV saved as: part3_output.csv\n"
     ]
    }
   ],
   "source": [
    "output_path = \"part3_output.csv\"\n",
    "output_columns = column_names + [\"Course\", \"Section\"]\n",
    "\n",
    "with open(output_path, mode=\"w\", newline='', encoding=\"utf-8\") as out_file:\n",
    "    writer = csv.DictWriter(out_file, fieldnames=output_columns)\n",
    "    writer.writeheader()\n",
    "    writer.writerows(combined_attendance_rows)\n",
    "\n",
    "print(f\"✅ Attendance CSV saved as: {output_path}\")\n"
   ]
  },
  {
   "cell_type": "code",
   "execution_count": null,
   "id": "7b8b2a23-8720-4b6d-a41e-d75d05f2274c",
   "metadata": {},
   "outputs": [],
   "source": []
  }
 ],
 "metadata": {
  "kernelspec": {
   "display_name": "Python 3 (ipykernel)",
   "language": "python",
   "name": "python3"
  },
  "language_info": {
   "codemirror_mode": {
    "name": "ipython",
    "version": 3
   },
   "file_extension": ".py",
   "mimetype": "text/x-python",
   "name": "python",
   "nbconvert_exporter": "python",
   "pygments_lexer": "ipython3",
   "version": "3.12.5"
  }
 },
 "nbformat": 4,
 "nbformat_minor": 5
}
