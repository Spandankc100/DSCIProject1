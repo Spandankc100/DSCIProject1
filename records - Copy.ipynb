{
 "cells": [
  {
   "cell_type": "code",
   "execution_count": 22,
   "id": "51b44fcf-6533-4999-85f7-6567333528b3",
   "metadata": {},
   "outputs": [
    {
     "name": "stdout",
     "output_type": "stream",
     "text": [
      "Requirement already satisfied: composable in /opt/anaconda3/envs/polars/lib/python3.12/site-packages (0.2.5)\n",
      "Requirement already satisfied: python-forge<19.0,>=18.6 in /opt/anaconda3/envs/polars/lib/python3.12/site-packages (from composable) (18.6.0)\n",
      "Requirement already satisfied: toolz<0.12.0,>=0.11.1 in /opt/anaconda3/envs/polars/lib/python3.12/site-packages (from composable) (0.11.2)\n",
      "Note: you may need to restart the kernel to use updated packages.\n"
     ]
    }
   ],
   "source": [
    "%pip install composable"
   ]
  },
  {
   "cell_type": "code",
   "execution_count": 23,
   "id": "d59bf0bb-727d-4d7c-bfe6-3072992dca2c",
   "metadata": {},
   "outputs": [
    {
     "name": "stdout",
     "output_type": "stream",
     "text": [
      "Requirement already satisfied: toolz in /opt/anaconda3/envs/polars/lib/python3.12/site-packages (0.11.2)\n",
      "Note: you may need to restart the kernel to use updated packages.\n"
     ]
    }
   ],
   "source": [
    "%pip install toolz"
   ]
  },
  {
   "cell_type": "code",
   "execution_count": 24,
   "id": "da5417df-656b-41a4-8e2c-b7f058362017",
   "metadata": {},
   "outputs": [
    {
     "name": "stdout",
     "output_type": "stream",
     "text": [
      "Requirement already satisfied: more-itertools in /opt/anaconda3/envs/polars/lib/python3.12/site-packages (10.5.0)\n",
      "Note: you may need to restart the kernel to use updated packages.\n"
     ]
    }
   ],
   "source": [
    "%pip install more-itertools"
   ]
  },
  {
   "cell_type": "code",
   "execution_count": 1,
   "id": "650d6fde-93ef-467d-a321-fac009ecb629",
   "metadata": {},
   "outputs": [],
   "source": [
    "from composable import pipeable\n",
    "from composable.strict import map, filter"
   ]
  },
  {
   "cell_type": "code",
   "execution_count": 2,
   "id": "1a0baec1-24a1-4f93-90fc-a86d1e2319f3",
   "metadata": {},
   "outputs": [],
   "source": [
    "from more_itertools import with_iter"
   ]
  },
  {
   "cell_type": "code",
   "execution_count": 3,
   "id": "3b1137cd-bffa-4c46-b28d-846d762d84a2",
   "metadata": {},
   "outputs": [],
   "source": [
    "import records as rec"
   ]
  },
  {
   "cell_type": "markdown",
   "id": "2801bef4-4e3f-458c-8f79-61aceafbc28c",
   "metadata": {},
   "source": [
    "#### `records.Record`s allow access to keys as attributes, as well as the usual way"
   ]
  },
  {
   "cell_type": "code",
   "execution_count": 4,
   "id": "6243b05b-50bc-408e-9f21-972f249d2476",
   "metadata": {},
   "outputs": [],
   "source": [
    "d1 = {'a': 5, 'b': 3}"
   ]
  },
  {
   "cell_type": "code",
   "execution_count": 5,
   "id": "1c0f632e-333c-425f-8d94-c50ad5f65ce6",
   "metadata": {},
   "outputs": [
    {
     "data": {
      "text/plain": [
       "record(a=5, b=3)"
      ]
     },
     "execution_count": 5,
     "metadata": {},
     "output_type": "execute_result"
    }
   ],
   "source": [
    "(r1 := rec.Record(**d1))"
   ]
  },
  {
   "cell_type": "code",
   "execution_count": 6,
   "id": "35ce4658-c363-4d2f-a04b-24b33499b6cd",
   "metadata": {},
   "outputs": [
    {
     "data": {
      "text/plain": [
       "(5, 5)"
      ]
     },
     "execution_count": 6,
     "metadata": {},
     "output_type": "execute_result"
    }
   ],
   "source": [
    "r1.a, r1['a']"
   ]
  },
  {
   "cell_type": "markdown",
   "id": "f5e19064-4a09-41d8-b2a1-7f23a337a975",
   "metadata": {},
   "source": [
    "#### You can merge `Record` and/or `dict` with `|`"
   ]
  },
  {
   "cell_type": "code",
   "execution_count": 7,
   "id": "171e1184-a38a-44b7-b88a-f48f50e0fe1b",
   "metadata": {},
   "outputs": [],
   "source": [
    "d2 = {'a': 1, 'c':5}"
   ]
  },
  {
   "cell_type": "code",
   "execution_count": 8,
   "id": "cb25dad5-3f09-46f6-b79f-b6afea2169ff",
   "metadata": {},
   "outputs": [
    {
     "data": {
      "text/plain": [
       "record(a=1, c=5)"
      ]
     },
     "execution_count": 8,
     "metadata": {},
     "output_type": "execute_result"
    }
   ],
   "source": [
    "(r2 := rec.Record(**d2))"
   ]
  },
  {
   "cell_type": "code",
   "execution_count": 9,
   "id": "f91a3165-0da0-45e5-8107-cb0033288238",
   "metadata": {},
   "outputs": [
    {
     "data": {
      "text/plain": [
       "(record(a=1, b=3, c=5), record(a=5, c=5, b=3))"
      ]
     },
     "execution_count": 9,
     "metadata": {},
     "output_type": "execute_result"
    }
   ],
   "source": [
    "r1 | r2, r2 | r1"
   ]
  },
  {
   "cell_type": "code",
   "execution_count": 10,
   "id": "98fa2ee2-91bf-4e5c-9ef6-e1f530f5a501",
   "metadata": {},
   "outputs": [
    {
     "data": {
      "text/plain": [
       "(record(a=1, b=3, c=5), record(a=5, c=5, b=3))"
      ]
     },
     "execution_count": 10,
     "metadata": {},
     "output_type": "execute_result"
    }
   ],
   "source": [
    "r1 | d2, d2 | r1"
   ]
  },
  {
   "cell_type": "markdown",
   "id": "1c41392d-941c-45e6-bc7c-a7fbf1ae021a",
   "metadata": {},
   "source": [
    "## Using `records.create_record` to create a record from a value using a `dict` of functions."
   ]
  },
  {
   "cell_type": "code",
   "execution_count": 11,
   "id": "2a23b387-ed44-4848-8395-a54340331985",
   "metadata": {},
   "outputs": [],
   "source": [
    "identity = lambda x: x\n",
    "add_one = lambda x: x+1\n",
    "sqr = lambda x: x**2\n",
    "cube = lambda x: x**3"
   ]
  },
  {
   "cell_type": "code",
   "execution_count": 12,
   "id": "ad442cc2-dfd1-4ddc-bedc-d84f7ed9e740",
   "metadata": {},
   "outputs": [
    {
     "data": {
      "text/plain": [
       "record(value=5, plus_one=6, square=25, cube=125)"
      ]
     },
     "execution_count": 12,
     "metadata": {},
     "output_type": "execute_result"
    }
   ],
   "source": [
    "(5\n",
    " >> rec.create(value = identity,\n",
    "               plus_one = add_one,\n",
    "               square = sqr,\n",
    "               cube = cube,\n",
    "               )\n",
    ")"
   ]
  },
  {
   "cell_type": "code",
   "execution_count": 13,
   "id": "c2b00cee-3841-4ebd-a356-27edf1bbc6ae",
   "metadata": {},
   "outputs": [
    {
     "data": {
      "text/plain": [
       "{'value': 5, 'plus_one': 6, 'square': 25, 'cube': 125}"
      ]
     },
     "execution_count": 13,
     "metadata": {},
     "output_type": "execute_result"
    }
   ],
   "source": [
    "(5\n",
    " >> rec.create(value = identity,\n",
    "               plus_one = add_one,\n",
    "               square = sqr,\n",
    "               cube = cube,\n",
    "               use_record_class=False)\n",
    ")"
   ]
  },
  {
   "cell_type": "markdown",
   "id": "e314be2c-bb70-415d-9f65-066ead9a1819",
   "metadata": {},
   "source": [
    "## Processing records with `map`, `apply` and `update`\n",
    "\n",
    "* `records.map` applies a function to all values, leaving the keys unchanged.\n",
    "* `records.apply` applies a function to the value of the specified key.\n",
    "* `records.update` builds updated records by applying functions to the entire record, with the output mapped to the corresponding key."
   ]
  },
  {
   "cell_type": "code",
   "execution_count": 14,
   "id": "c493e6dd-236f-42e3-9b76-30616f73333a",
   "metadata": {},
   "outputs": [
    {
     "data": {
      "text/plain": [
       "{'value': 8, 'sqr': '36'}"
      ]
     },
     "execution_count": 14,
     "metadata": {},
     "output_type": "execute_result"
    }
   ],
   "source": [
    "(5\n",
    " >> rec.create(value = identity,\n",
    "               use_record_class=False)\n",
    " >> rec.map(add_one)                               # map to all values\n",
    " >> rec.update(value = lambda r: r['value'] + 1,   # update the value at key \n",
    "               sqr = lambda r: r['value']**2,      # argument is whole record\n",
    "              )\n",
    " >> rec.apply(value = add_one,                     # Apply a function only at the key's value\n",
    "              sqr = str)                           # Argument is corresponding value\n",
    ")                                                  # `dict` in ==> `dict` out"
   ]
  },
  {
   "cell_type": "code",
   "execution_count": 15,
   "id": "af40f3e3-f92d-4c2f-a1e5-6cc7e179a20d",
   "metadata": {},
   "outputs": [
    {
     "data": {
      "text/plain": [
       "record(value=8, sqr='36')"
      ]
     },
     "execution_count": 15,
     "metadata": {},
     "output_type": "execute_result"
    }
   ],
   "source": [
    "(5\n",
    " >> rec.create(value = identity,\n",
    "               use_record_class=True)                  # Use the Record class (default)\n",
    " >> rec.map(add_one)\n",
    " >> rec.update(value = lambda r: r.value + 1,          # Records allow cleaner expressions \n",
    "               sqr = lambda r: r.value**2,             # by using attribute access to values\n",
    "              )\n",
    " >> rec.apply(value = add_one,\n",
    "              sqr = str)\n",
    " \n",
    ")                                                      # `Record` in ==> `Record` out"
   ]
  },
  {
   "cell_type": "markdown",
   "id": "aebb2040-c775-4d8e-b765-cc30a19ecdbb",
   "metadata": {},
   "source": [
    "### `update` can process values simultaneously (default) or sequentially\n",
    "\n",
    "When setting `sequential=True`, each subsequent function is passed the output of the previous function.  Note that this relies on `dict` maintaining insertion order, and thus requires Python 3.7+."
   ]
  },
  {
   "cell_type": "markdown",
   "id": "e3822200-b676-4154-8b1b-c282902f915a",
   "metadata": {},
   "source": [
    "#### Non-sequential examples"
   ]
  },
  {
   "cell_type": "code",
   "execution_count": 16,
   "id": "e46a0398-9cd7-4e3a-bbe5-2720d3a9389e",
   "metadata": {},
   "outputs": [
    {
     "data": {
      "text/plain": [
       "record(value=6, original=5, sqr=25)"
      ]
     },
     "execution_count": 16,
     "metadata": {},
     "output_type": "execute_result"
    }
   ],
   "source": [
    "(5\n",
    " >> rec.create(value = identity,\n",
    "               use_record_class=True)\n",
    " >> rec.update(original = lambda r: r.value,  # save original\n",
    "                value = lambda r: r.value + 1, # independently add one\n",
    "                sqr = lambda r: r.value**2,    # independently square\n",
    "                sequential=False\n",
    "               )\n",
    ")"
   ]
  },
  {
   "cell_type": "code",
   "execution_count": 17,
   "id": "fbf4fa1c-345d-4ea2-aca9-87f070776596",
   "metadata": {},
   "outputs": [
    {
     "data": {
      "text/plain": [
       "{'value': 6, 'original': 5, 'sqr': 25}"
      ]
     },
     "execution_count": 17,
     "metadata": {},
     "output_type": "execute_result"
    }
   ],
   "source": [
    "(5\n",
    " >> rec.create(value = identity,\n",
    "               use_record_class=False)\n",
    " >> rec.update(original = lambda r: r['value'],  # save original\n",
    "               value = lambda r: r['value'] + 1, # independently add one\n",
    "               sqr = lambda r: r['value']**2,    # independently square\n",
    "               sequential=False\n",
    "              )\n",
    ")"
   ]
  },
  {
   "cell_type": "markdown",
   "id": "5bc97223-4d86-45cc-8136-1355875ba2b2",
   "metadata": {},
   "source": [
    "#### Sequential examples"
   ]
  },
  {
   "cell_type": "code",
   "execution_count": 18,
   "id": "9f19d5d0-a6e9-4ed4-9abd-779292226c06",
   "metadata": {},
   "outputs": [
    {
     "data": {
      "text/plain": [
       "{'value': 6, 'original': 5, 'sqr': 36}"
      ]
     },
     "execution_count": 18,
     "metadata": {},
     "output_type": "execute_result"
    }
   ],
   "source": [
    "(5\n",
    " >> rec.create(value = identity,\n",
    "               use_record_class=False)\n",
    " >> rec.update(original = lambda r: r['value'],  # save original\n",
    "               value = lambda r: r['value'] + 1, # And then add one\n",
    "               sqr = lambda r: r['value']**2,    # And then sqr\n",
    "               sequential=True\n",
    "              )\n",
    ")"
   ]
  },
  {
   "cell_type": "code",
   "execution_count": 19,
   "id": "486739e6-6db8-4960-b84f-e007da8d6f29",
   "metadata": {},
   "outputs": [
    {
     "data": {
      "text/plain": [
       "record(value=6, original=5, sqr=36)"
      ]
     },
     "execution_count": 19,
     "metadata": {},
     "output_type": "execute_result"
    }
   ],
   "source": [
    "(5\n",
    " >> rec.create(value = identity,\n",
    "               use_record_class=True)\n",
    " >> rec.update(original = lambda r: r.value,  # save original\n",
    "               value = lambda r: r.value + 1, # And then add one\n",
    "               sqr = lambda r: r.value**2,    # And then sqr\n",
    "               sequential=True\n",
    "              )\n",
    ")"
   ]
  },
  {
   "cell_type": "markdown",
   "id": "81bae35b-7c3b-4181-8bb5-a64c7edbe26f",
   "metadata": {},
   "source": [
    "### Why use `sequential=True`\n",
    "\n",
    "The [let expression](https://en.wikipedia.org/wiki/Let_expression) is a common tool in expression-oriented functional programming languages that allows one to build a sequence of (local) bindings that are used in the body of the expression.  It is common that these bindings are processed sequentially, allowing newer expressions to use the variable defined in the previous expressions. This is particularly useful when breaking complicated computations into a sequence of more readable steps.\n",
    "\n",
    "While it is difficult to implement a `let` expression on the user-side in Python, but we use `update` in an analogous way.   The main caveat is that we need to (A) house each \"expression\" in a `lambda` with the record as a parameter and (B) we need to access the elements of the record, either as attributes (`Record` only) or by scripting (both `dict` and `Record`s).  In fact, these expressions are the primary motivation for implementing the `Record` class.\n",
    "\n",
    "In this case, you can think of the last keyword pair as the \"body\" or our let expression."
   ]
  },
  {
   "cell_type": "markdown",
   "id": "911ae4c3-1e28-41e9-991b-290eebb8f751",
   "metadata": {},
   "source": [
    "## Extracting values from a record with `get`"
   ]
  },
  {
   "cell_type": "code",
   "execution_count": 20,
   "id": "029655c7-2b45-444f-9e07-7f157311edc0",
   "metadata": {},
   "outputs": [
    {
     "data": {
      "text/plain": [
       "36"
      ]
     },
     "execution_count": 20,
     "metadata": {},
     "output_type": "execute_result"
    }
   ],
   "source": [
    "(5\n",
    " >> rec.create(value = identity,\n",
    "               use_record_class=True)\n",
    " >> rec.update(original = lambda r: r.value,  # save original\n",
    "               value = lambda r: r.value + 1, # And then add one\n",
    "               sqr = lambda r: r.value**2,    # And then sqr\n",
    "               sequential=True\n",
    "              )\n",
    " >> rec.get( 'sqr')\n",
    ")"
   ]
  },
  {
   "cell_type": "code",
   "execution_count": 21,
   "id": "573821a4-79ab-4454-b677-b628e57f3c46",
   "metadata": {},
   "outputs": [
    {
     "data": {
      "text/plain": [
       "[5, 36]"
      ]
     },
     "execution_count": 21,
     "metadata": {},
     "output_type": "execute_result"
    }
   ],
   "source": [
    "(5\n",
    " >> rec.create(value = identity,\n",
    "               use_record_class=True)\n",
    " >> rec.update(original = lambda r: r.value,  # save original\n",
    "               value = lambda r: r.value + 1, # And then add one\n",
    "               sqr = lambda r: r.value**2,    # And then sqr\n",
    "               sequential=True\n",
    "              )\n",
    " >> rec.get(['original', 'sqr'])\n",
    ")"
   ]
  },
  {
   "cell_type": "code",
   "execution_count": 22,
   "id": "97db2bf8-8b54-4d97-9206-af754c4d430c",
   "metadata": {},
   "outputs": [
    {
     "data": {
      "text/plain": [
       "[1, 4, 9, 16, 25]"
      ]
     },
     "execution_count": 22,
     "metadata": {},
     "output_type": "execute_result"
    }
   ],
   "source": [
    "(list(range(5))\n",
    " >> map(rec.create(value = identity,\n",
    "                   use_record_class=True)\n",
    "       )\n",
    " >> map(rec.update(original = lambda r: r.value,  # save original\n",
    "                   value = lambda r: r.value + 1, # And then add one\n",
    "                   sqr = lambda r: r.value**2,    # And then sqr\n",
    "                   sequential=True\n",
    "              )\n",
    "       )\n",
    " >> map(rec.get('sqr'))\n",
    ")"
   ]
  },
  {
   "cell_type": "code",
   "execution_count": 23,
   "id": "cd5f02cb-7c51-46ca-a7c5-a99505f366e1",
   "metadata": {},
   "outputs": [
    {
     "data": {
      "text/plain": [
       "[[0, 1], [1, 4], [2, 9], [3, 16], [4, 25]]"
      ]
     },
     "execution_count": 23,
     "metadata": {},
     "output_type": "execute_result"
    }
   ],
   "source": [
    "(list(range(5))\n",
    " >> map(rec.create(value = identity,\n",
    "                   use_record_class=True)\n",
    "       )\n",
    " >> map(rec.update(original = lambda r: r.value,  # save original\n",
    "                   value = lambda r: r.value + 1, # And then add one\n",
    "                   sqr = lambda r: r.value**2,    # And then sqr\n",
    "                   sequential=True\n",
    "                  )\n",
    "       )\n",
    " >> map(rec.get(['original', 'sqr']))\n",
    ")"
   ]
  },
  {
   "cell_type": "markdown",
   "id": "11401a06-42b3-4ed6-aa0d-5bdab7969530",
   "metadata": {},
   "source": [
    "## Getting a `subset` of the key/value pairs"
   ]
  },
  {
   "cell_type": "code",
   "execution_count": 24,
   "id": "788a63ba-aac2-49f5-aa28-767cbbc8b9db",
   "metadata": {},
   "outputs": [
    {
     "data": {
      "text/plain": [
       "record(original=5, sqr=36)"
      ]
     },
     "execution_count": 24,
     "metadata": {},
     "output_type": "execute_result"
    }
   ],
   "source": [
    "(5\n",
    " >> rec.create(value = identity,\n",
    "               use_record_class=True)\n",
    " >> rec.update(original = lambda r: r.value,  # save original\n",
    "               value = lambda r: r.value + 1, # And then add one\n",
    "               sqr = lambda r: r.value**2,    # And then sqr\n",
    "               sequential=True\n",
    "              )\n",
    " >> rec.subset(['original', 'sqr'])\n",
    ")"
   ]
  },
  {
   "cell_type": "code",
   "execution_count": 25,
   "id": "6a143618-5e72-4205-ae0d-cc933be3b8f8",
   "metadata": {},
   "outputs": [
    {
     "data": {
      "text/plain": [
       "[record(original=0, sqr=1),\n",
       " record(original=1, sqr=4),\n",
       " record(original=2, sqr=9),\n",
       " record(original=3, sqr=16),\n",
       " record(original=4, sqr=25)]"
      ]
     },
     "execution_count": 25,
     "metadata": {},
     "output_type": "execute_result"
    }
   ],
   "source": [
    "(list(range(5))\n",
    " >> map(rec.create(value = identity,\n",
    "               use_record_class=True)\n",
    "       )\n",
    " >> map(rec.update(original = lambda r: r.value,  # save original\n",
    "               value = lambda r: r.value + 1, # And then add one\n",
    "               sqr = lambda r: r.value**2,    # And then sqr\n",
    "               sequential=True\n",
    "              )\n",
    "       )\n",
    " >> map(rec.subset(['original', 'sqr']))\n",
    ")"
   ]
  },
  {
   "cell_type": "code",
   "execution_count": 26,
   "id": "6fca5222-cac6-4095-82a4-88cc2a509ddf",
   "metadata": {},
   "outputs": [
    {
     "data": {
      "text/plain": [
       "{'original': [0, 1, 2, 3, 4], 'sqr': [1, 4, 9, 16, 25]}"
      ]
     },
     "execution_count": 26,
     "metadata": {},
     "output_type": "execute_result"
    }
   ],
   "source": [
    "(list(range(5))\n",
    " >> map(rec.create(value = identity,\n",
    "               use_record_class=True)\n",
    "       )\n",
    " >> map(rec.update(original = lambda r: r.value,  # save original\n",
    "               value = lambda r: r.value + 1, # And then add one\n",
    "               sqr = lambda r: r.value**2,    # And then sqr\n",
    "               sequential=True\n",
    "              )\n",
    "       )\n",
    " >> map(rec.subset(['original', 'sqr']))\n",
    " >> rec.zip()\n",
    ")"
   ]
  },
  {
   "cell_type": "code",
   "execution_count": 27,
   "id": "14388d5c-b0b3-4131-84c9-de4bdfb127e8",
   "metadata": {},
   "outputs": [
    {
     "data": {
      "text/plain": [
       "{'original': [0, 1, 2, 3, 4], 'sqr': [1, 4, 9, 16, 25]}"
      ]
     },
     "execution_count": 27,
     "metadata": {},
     "output_type": "execute_result"
    }
   ],
   "source": [
    "(list(range(5))\n",
    " >> map(rec.create(value = identity,\n",
    "               use_record_class=True)\n",
    "       )\n",
    " >> map(rec.update(original = lambda r: r.value,  # save original\n",
    "               value = lambda r: r.value + 1, # And then add one\n",
    "               sqr = lambda r: r.value**2,    # And then sqr\n",
    "               sequential=True\n",
    "              )\n",
    "       )\n",
    " >> rec.zip(keys = ['original', 'sqr'])\n",
    ")"
   ]
  },
  {
   "cell_type": "code",
   "execution_count": null,
   "id": "38deb2a7-9814-4e82-b5c0-cf53154a0bd0",
   "metadata": {},
   "outputs": [],
   "source": []
  }
 ],
 "metadata": {
  "kernelspec": {
   "display_name": "Python 3 (ipykernel)",
   "language": "python",
   "name": "python3"
  },
  "language_info": {
   "codemirror_mode": {
    "name": "ipython",
    "version": 3
   },
   "file_extension": ".py",
   "mimetype": "text/x-python",
   "name": "python",
   "nbconvert_exporter": "python",
   "pygments_lexer": "ipython3",
   "version": "3.12.5"
  }
 },
 "nbformat": 4,
 "nbformat_minor": 5
}
