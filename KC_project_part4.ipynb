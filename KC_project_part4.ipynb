{
 "cells": [
  {
   "cell_type": "markdown",
   "id": "7e8e1380-1527-48ed-9c00-74700bb04945",
   "metadata": {},
   "source": [
    "### Imports"
   ]
  },
  {
   "cell_type": "code",
   "execution_count": 28,
   "id": "bab7f65d-74d9-42b6-8fc7-bd8f30e8ae3e",
   "metadata": {},
   "outputs": [],
   "source": [
    "from composable import pipeable\n",
    "from composable.strict import map\n",
    "import composable_records as rec\n",
    "from composable_glob import glob\n",
    "from composable_utility import with_open\n",
    "import csv\n",
    "from functools import reduce as base_reduce"
   ]
  },
  {
   "cell_type": "markdown",
   "id": "7253a694-27e9-4564-9c84-4baa79d161e7",
   "metadata": {},
   "source": [
    "# --- Custom pipeable functions ---"
   ]
  },
  {
   "cell_type": "code",
   "execution_count": 29,
   "id": "6cf63612-1c5e-4adc-966c-13f86ddffeb5",
   "metadata": {},
   "outputs": [],
   "source": [
    "# --- Custom pipeable functions ---\n",
    "@pipeable\n",
    "def fold(update, init, seq):\n",
    "    return base_reduce(update, seq, init)\n",
    "\n",
    "@pipeable\n",
    "def unfoldr(empty, func, state):\n",
    "    out = []\n",
    "    while not empty(state):\n",
    "        new, state = func(state)\n",
    "        out = out + [new]\n",
    "    return out\n"
   ]
  },
  {
   "cell_type": "markdown",
   "id": "1ffea142-328b-4b38-94a4-5eb33a695f41",
   "metadata": {},
   "source": [
    "# **Paths and course-related functions**"
   ]
  },
  {
   "cell_type": "code",
   "execution_count": 30,
   "id": "71b13918-e7cd-4951-8c06-5ae80dda6db9",
   "metadata": {},
   "outputs": [],
   "source": [
    "# **Paths and course-related functions**\n",
    "paths = (\n",
    "    \"./attendance_example_fixed_width/*/*.txt\"\n",
    "    >> glob(recursive=True)\n",
    ")\n",
    "\n",
    "normalize_path = lambda path: path.replace(\"\\\\\", \"/\")\n",
    "get_course = lambda path: normalize_path(path).split(\"/\")[-2][:-2]\n",
    "get_section = lambda path: get_course(path)[-2:]\n",
    "get_type = lambda path: \"Attendance\" if \"Attendance Quiz\" in path else \"Practice Quiz\""
   ]
  },
  {
   "cell_type": "markdown",
   "id": "adb36bfc-6ff2-422d-b362-6ef43a48d4ab",
   "metadata": {},
   "source": [
    "# --- Attendance and Practice Quiz fixed-width column spec ---"
   ]
  },
  {
   "cell_type": "code",
   "execution_count": 31,
   "id": "b5ef9dd5-51db-4c33-86d8-175a44c9dc3a",
   "metadata": {},
   "outputs": [],
   "source": [
    "# --- Attendance and Practice Quiz fixed-width column spec ---\n",
    "attendance_header = [\n",
    "    (\"Org Defined ID\", 9),\n",
    "    (\"UserName\", 9),\n",
    "    (\"FirstName\", 12),\n",
    "    (\"LastName\", 12),\n",
    "    (\"Attempt #\", 3),\n",
    "    (\"Score\", 3),\n",
    "    (\"Out Of\", 3),\n",
    "    (\"Attempt_Start\", 10),     # Date\n",
    "    (\"Attempt_Start_Time\", 10),\n",
    "    (\"Attempt_End\", 10),       # Date\n",
    "    (\"Attempt_End_Time\", 10),\n",
    "    (\"Percent\", 6),\n",
    "]\n",
    "column_names = [col[0] for col in attendance_header]\n",
    "column_widths = [col[1] for col in attendance_header]"
   ]
  },
  {
   "cell_type": "markdown",
   "id": "32040c7e-749e-41f7-811c-edd8674632da",
   "metadata": {},
   "source": [
    "# --- Function to parse one line using unfoldr ---"
   ]
  },
  {
   "cell_type": "code",
   "execution_count": 32,
   "id": "bf51e9e6-e822-4e0d-8105-5e0d77cc29b3",
   "metadata": {},
   "outputs": [],
   "source": [
    "# --- Function to parse one line using unfoldr ---\n",
    "def parse_fixed_width_unfold(line, widths):\n",
    "    return unfoldr(\n",
    "        empty = lambda s: s == \"\",\n",
    "        func = lambda s: (s[:widths[0]].strip(), s[widths[0]:]) if s else (\"\", \"\"),\n",
    "        state = line\n",
    "    )"
   ]
  },
  {
   "cell_type": "markdown",
   "id": "f214c536-6904-4397-8dfe-d49a3fa2980e",
   "metadata": {},
   "source": [
    "# --- Composable pipeline to combine attendance and practice quiz files ---"
   ]
  },
  {
   "cell_type": "code",
   "execution_count": 35,
   "id": "a37b791d-186d-4c4e-b79c-2b0d99df9990",
   "metadata": {},
   "outputs": [],
   "source": [
    "# --- Composable pipeline to combine attendance and practice quiz files ---\n",
    "combined_records = (\n",
    "    paths\n",
    "    >> map(\n",
    "        rec.create(\n",
    "            path    = lambda p: p,\n",
    "            course  = lambda p: get_course(p),\n",
    "            section = lambda p: get_section(p),\n",
    "            type    = lambda p: get_type(p),\n",
    "            lines   = lambda p: with_open(lambda f: f.read().splitlines(), p),\n",
    "            use_record_class=False\n",
    "        )\n",
    "    )\n",
    "    >> map(\n",
    "        rec.update(\n",
    "            parsed_rows = lambda r: [\n",
    "                dict(zip(column_names, parse_fixed_width_unfold(line, column_widths))) | {\n",
    "                    \"Course\": r[\"course\"],\n",
    "                    \"Section\": r[\"section\"],\n",
    "                    \"Type\": r[\"type\"]\n",
    "                }\n",
    "                for line in r[\"lines\"] if line.strip()\n",
    "            ]\n",
    "        )\n",
    "    )\n",
    "    >> fold(lambda acc, r: acc + r[\"parsed_rows\"], [])\n",
    ")\n"
   ]
  },
  {
   "cell_type": "markdown",
   "id": "8a838d29-a057-44e2-9205-7c180f87397e",
   "metadata": {},
   "source": [
    "# --- Save to CSV ---"
   ]
  },
  {
   "cell_type": "code",
   "execution_count": 37,
   "id": "36bd37d5-9d95-4864-a803-9813c254b372",
   "metadata": {},
   "outputs": [
    {
     "name": "stdout",
     "output_type": "stream",
     "text": [
      "✅ Combined CSV saved as: combined_outputP4.csv\n"
     ]
    }
   ],
   "source": [
    "# --- Save to CSV ---\n",
    "output_path = \"combined_outputP4.csv\"\n",
    "output_columns = column_names + [\"Course\", \"Section\", \"Type\"]\n",
    "\n",
    "with open(output_path, mode=\"w\", newline='', encoding=\"utf-8\") as out_file:\n",
    "    writer = csv.DictWriter(out_file, fieldnames=output_columns)\n",
    "    writer.writeheader()\n",
    "    writer.writerows(combined_records)\n",
    "\n",
    "print(f\"✅ Combined CSV saved as: {output_path}\")"
   ]
  },
  {
   "cell_type": "code",
   "execution_count": null,
   "id": "0191e17f-ea2b-4a6b-a97c-db0054f77ad3",
   "metadata": {},
   "outputs": [],
   "source": []
  },
  {
   "cell_type": "code",
   "execution_count": null,
   "id": "5dd310c4-ff50-4ef5-a93e-9e7b9e7d3a06",
   "metadata": {},
   "outputs": [],
   "source": []
  }
 ],
 "metadata": {
  "kernelspec": {
   "display_name": "Python 3 (ipykernel)",
   "language": "python",
   "name": "python3"
  },
  "language_info": {
   "codemirror_mode": {
    "name": "ipython",
    "version": 3
   },
   "file_extension": ".py",
   "mimetype": "text/x-python",
   "name": "python",
   "nbconvert_exporter": "python",
   "pygments_lexer": "ipython3",
   "version": "3.12.5"
  }
 },
 "nbformat": 4,
 "nbformat_minor": 5
}
